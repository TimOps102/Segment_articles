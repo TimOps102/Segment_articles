{
 "cells": [
  {
   "cell_type": "code",
   "execution_count": 3,
   "id": "949c43b4",
   "metadata": {},
   "outputs": [],
   "source": [
    "import cv2\n",
    "import numpy as np\n",
    "import os\n",
    "path=r\"originals/\"\n",
    " \n",
    "\n"
   ]
  },
  {
   "cell_type": "code",
   "execution_count": 11,
   "id": "9565cdc6",
   "metadata": {},
   "outputs": [
    {
     "name": "stdout",
     "output_type": "stream",
     "text": [
      "originals/00000017.tif.large.jpg\n",
      "00000017\n",
      "originals/00000002.tif.large.jpg\n",
      "00000002\n",
      "originals/00000007.tif.large.jpg\n",
      "00000007\n",
      "originals/00000012.tif.large.jpg\n",
      "00000012\n",
      "originals/00000014.tif.large.jpg\n",
      "00000014\n",
      "originals/00000013.tif.large.jpg\n",
      "00000013\n",
      "originals/00000001.tif.large.jpg\n",
      "00000001\n",
      "originals/00000011.tif.large.jpg\n",
      "00000011\n",
      "originals/00000004.tif.large.jpg\n",
      "00000004\n",
      "originals/00000018.tif.large.jpg\n",
      "00000018\n",
      "originals/00000003.tif.large.jpg\n",
      "00000003\n",
      "originals/00000015.tif.large.jpg\n",
      "00000015\n",
      "originals/00000016.tif.large.jpg\n",
      "00000016\n",
      "originals/00000005.tif.large.jpg\n",
      "00000005\n",
      "originals/00000009.tif.large.jpg\n",
      "00000009\n",
      "originals/00000008.tif.large.jpg\n",
      "00000008\n",
      "originals/00000010.tif.large.jpg\n",
      "00000010\n",
      "originals/00000006.tif.large.jpg\n",
      "00000006\n"
     ]
    }
   ],
   "source": [
    "for filename in os.listdir(path):\n",
    "    fullname = os.path.join(path, filename)   \n",
    "    print(fullname)\n",
    "    img = cv2.imread(fullname)\n",
    "    number = fullname.split(\".\")[0].split(\"/\")[-1]\n",
    "    print(number)\n",
    "    #cv2.imshow(\"original\", img)\n",
    "\n",
    "    height=img.shape[0]\n",
    "    width=img.shape[1]\n",
    "    # Cropping an image\n",
    "    cropped_image = img[0:height, 85:width-85]\n",
    "\n",
    "    # Display cropped image\n",
    "    #cv2.imshow(\"cropped\", cropped_image)\n",
    "\n",
    "    # Save the cropped image\n",
    "    cv2.imwrite(f\"croped/croped_{number}.jpg\", cropped_image)"
   ]
  },
  {
   "cell_type": "code",
   "execution_count": null,
   "id": "098b12ea",
   "metadata": {},
   "outputs": [],
   "source": []
  }
 ],
 "metadata": {
  "kernelspec": {
   "display_name": "articles",
   "language": "python",
   "name": "articles"
  },
  "language_info": {
   "codemirror_mode": {
    "name": "ipython",
    "version": 3
   },
   "file_extension": ".py",
   "mimetype": "text/x-python",
   "name": "python",
   "nbconvert_exporter": "python",
   "pygments_lexer": "ipython3",
   "version": "3.10.12"
  }
 },
 "nbformat": 4,
 "nbformat_minor": 5
}
